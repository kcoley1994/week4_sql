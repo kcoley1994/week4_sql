{
 "cells": [
  {
   "cell_type": "markdown",
   "id": "7196054f",
   "metadata": {},
   "source": [
    "# Working with APIs"
   ]
  },
  {
   "cell_type": "markdown",
   "id": "0547b71e",
   "metadata": {},
   "source": [
    "API stands for Application programming interface<br>\n",
    "APIs are a way for applications to talk to eachother<br>\n",
    "In python we use the requests package to handle the connection<br>\n",
    "<small><strong>Note: It is requests with an s not request(this is a different package)</strong></small><br>\n",
    "Most API's communicate with data in the form of JSON<br>\n",
    "JSON stands for JavaScript Object Notation"
   ]
  },
  {
   "cell_type": "code",
   "execution_count": null,
   "id": "4db9d154",
   "metadata": {},
   "outputs": [],
   "source": [
    "#import the packages we need:\n",
    "import requests"
   ]
  },
  {
   "cell_type": "markdown",
   "id": "e8c2ce51",
   "metadata": {},
   "source": [
    "We will be connecting to the Ergast F1 Racer API today:\n",
    "http://ergast.com/mrd/\n",
    "\n",
    "to view JSON data nicely in the Chrome browser install the extension JSONview"
   ]
  },
  {
   "cell_type": "code",
   "execution_count": null,
   "id": "52c440c6",
   "metadata": {},
   "outputs": [],
   "source": [
    "# The API we're accessing\n",
    "# Make sure to attach extension .json at the end of url\n",
    "url = 'http://ergast.com/api/f1/2008/5/driverStandings.json'"
   ]
  },
  {
   "cell_type": "code",
   "execution_count": null,
   "id": "f60c1b4a",
   "metadata": {},
   "outputs": [],
   "source": [
    "# using the request package to access data from api/url\n",
    "response = requests.get(url)"
   ]
  },
  {
   "cell_type": "code",
   "execution_count": null,
   "id": "c6d1fdaf",
   "metadata": {},
   "outputs": [],
   "source": [
    "#check and make sure we got a successful response from the API\n",
    "#response.status_code: 200 = Success, 400 = Failed\n",
    "#response.ok: True = Success, False = Failed\n",
    "response.status_code\n",
    "response.ok"
   ]
  },
  {
   "cell_type": "code",
   "execution_count": null,
   "id": "ed4d3256",
   "metadata": {},
   "outputs": [],
   "source": [
    "#view the response as a JSON\n",
    "# response.json()"
   ]
  },
  {
   "cell_type": "code",
   "execution_count": null,
   "id": "92e6cd2c",
   "metadata": {},
   "outputs": [],
   "source": [
    "# .json() is a dictionary type\n",
    "type(response.json())"
   ]
  },
  {
   "cell_type": "code",
   "execution_count": null,
   "id": "f074dfcf",
   "metadata": {},
   "outputs": [],
   "source": [
    "# We only want the Driver Standings\n",
    "driver_standings_data = response.json()['MRData']['StandingsTable']['StandingsLists'][0]['DriverStandings']\n",
    "# driver_standings_data"
   ]
  },
  {
   "cell_type": "code",
   "execution_count": null,
   "id": "be46a950",
   "metadata": {},
   "outputs": [],
   "source": [
    "# Use a for loop to display all driver full names\n",
    "driver_standings_data[0]\n",
    "for driver in driver_standings_data:\n",
    "    print(driver['Driver']['givenName'], driver['Driver']['familyName'])"
   ]
  },
  {
   "cell_type": "code",
   "execution_count": null,
   "id": "3740c752",
   "metadata": {},
   "outputs": [],
   "source": [
    "# Create a function getting certain driver info (givenName, familyName, dateOfBirth, wins, team)\n",
    "def get_driver_info(data):\n",
    "    new_driver_data = []\n",
    "    for driver in data:\n",
    "        driver_dict = {}\n",
    "        full_name = driver['Driver']['givenName'] + ' ' + driver['Driver']['familyName']\n",
    "        driver_key = full_name\n",
    "        driver_dict[driver_key] = {\n",
    "            'date_of_birth': driver['Driver']['dateOfBirth'],\n",
    "            'number_of_wins': driver['wins'],\n",
    "            'team': driver['Constructors'][0]['name']\n",
    "        }\n",
    "        new_driver_data.append(driver_dict)\n",
    "    return new_driver_data\n",
    "\n",
    "print('---------- The F1 Racing Stats for the Year 2008 ----------')\n",
    "# get_driver_info(driver_standings_data)"
   ]
  },
  {
   "cell_type": "code",
   "execution_count": null,
   "id": "c0a568ef",
   "metadata": {},
   "outputs": [],
   "source": [
    "#Making a more flexible function to handle different years and rounds\n",
    "def get_driver_info_year_round(year, rnd):\n",
    "    url = f'http://ergast.com/api/f1/{year}/{rnd}/driverStandings.json'\n",
    "    response = requests.get(url)\n",
    "    if response.ok:\n",
    "        data = response.json()['MRData']['StandingsTable']['StandingsLists'][0]['DriverStandings']\n",
    "        return get_driver_info(data)\n",
    "    else:\n",
    "        return 'That year or round is invalid.'\n",
    "\n",
    "# get_driver_info_year_round(2020, 5)"
   ]
  },
  {
   "cell_type": "markdown",
   "id": "6d546014",
   "metadata": {},
   "source": [
    "# <strong>Homework</strong>\n",
    "check out this Pokemon API https://pokeapi.co/\n",
    "Use the requests package to connect to this API and get and store data for 5 different pokemon.\n",
    "Get the pokemons: name, atleast one ability's name, base_experience, and the URL for its sprite (an image that shows up on screen) for the 'front_shiny', attack base_stat, hp base_stat, defense base_stat"
   ]
  },
  {
   "cell_type": "code",
   "execution_count": null,
   "id": "5a9081e3",
   "metadata": {},
   "outputs": [],
   "source": [
    "url ='https://pokeapi.co/api/v2/pokemon/charizard'\n",
    "response = requests.get(url)\n",
    "response.status_code\n",
    "response.ok\n",
    "response.json\n",
    "type(response.json())\n",
    "\n"
   ]
  },
  {
   "cell_type": "code",
   "execution_count": null,
   "id": "4525c68d",
   "metadata": {},
   "outputs": [],
   "source": [
    "\n",
    "# confuse how to run the funtion \n",
    "# def pokemons_info(data):\n",
    "#     new_pokemon_data = []    \n",
    "#     for pokemon in data:\n",
    "#         pokemon_dict= {}\n",
    "#         name = response.json()['forms'][0]['name']\n",
    "#         pokemon_key = name\n",
    "#         pokemon_dict[pokemon_key] = {\n",
    "#             'pokeman_abilities': pokemon['abilities'][1]['ability']['name'],\n",
    "#             'pokeman_base_exp' : pokemon['base_experience'],\n",
    "#             'pokeman_sprite' : pokemon['sprites']['front_shiny'],\n",
    "#             'pokeman_attack' : pokemon['stats'][1]['base_stat'],\n",
    "#             'pokeman_hp' : pokemon['stats'][0]['base_stat'],\n",
    "#             'pokeman_defense' : pokemon['stats'][2]['base_stat']\n",
    "#         }\n",
    "#         new_pokemon_data.append(pokemon_dict)\n",
    "#     return new_pokemon_data\n",
    "# pokemons_info(response.json())\n"
   ]
  },
  {
   "cell_type": "code",
   "execution_count": 57,
   "id": "2aacc156",
   "metadata": {},
   "outputs": [
    {
     "name": "stdout",
     "output_type": "stream",
     "text": [
      "charizard\n",
      "solar-power\n",
      "267\n",
      "https://raw.githubusercontent.com/PokeAPI/sprites/master/sprites/pokemon/shiny/6.png\n",
      "84\n",
      "78\n",
      "78\n"
     ]
    }
   ],
   "source": [
    "\n",
    "url ='https://pokeapi.co/api/v2/pokemon/charizard'\n",
    "response = requests.get(url)\n",
    "response.status_code\n",
    "response.ok\n",
    "response.json\n",
    "type(response.json())\n",
    "pokeman_name = response.json()['forms'][0]['name']\n",
    "pokeman_abilities = response.json()['abilities'][1]['ability']['name']\n",
    "pokeman_base_exp = response.json()['base_experience']\n",
    "pokeman_sprite = response.json()['sprites']['front_shiny']\n",
    "pokeman_attack = response.json()['stats'][1]['base_stat']\n",
    "pokeman_hp = response.json()['stats'][0]['base_stat']\n",
    "pokeman_defense = response.json()['stats'][2]['base_stat']\n",
    "print(pokeman_name)\n",
    "print(pokeman_abilities)\n",
    "print(pokeman_base_exp)\n",
    "print(pokeman_sprite)\n",
    "print(pokeman_attack)\n",
    "print(pokeman_hp)\n",
    "print(pokeman_defense)\n"
   ]
  },
  {
   "cell_type": "code",
   "execution_count": 56,
   "id": "a73761c5",
   "metadata": {},
   "outputs": [
    {
     "name": "stdout",
     "output_type": "stream",
     "text": [
      "pikachu\n",
      "lightning-rod\n",
      "112\n",
      "https://raw.githubusercontent.com/PokeAPI/sprites/master/sprites/pokemon/shiny/25.png\n",
      "55\n",
      "35\n",
      "40\n"
     ]
    }
   ],
   "source": [
    "url ='https://pokeapi.co/api/v2/pokemon/pikachu'\n",
    "response = requests.get(url)\n",
    "response.status_code\n",
    "response.ok\n",
    "response.json\n",
    "type(response.json())\n",
    "pokeman_name = response.json()['forms'][0]['name']\n",
    "pokeman_abilities = response.json()['abilities'][1]['ability']['name']\n",
    "pokeman_base_exp = response.json()['base_experience']\n",
    "pokeman_sprite = response.json()['sprites']['front_shiny']\n",
    "pokeman_attack = response.json()['stats'][1]['base_stat']\n",
    "pokeman_hp = response.json()['stats'][0]['base_stat']\n",
    "pokeman_defense = response.json()['stats'][2]['base_stat']\n",
    "print(pokeman_name)\n",
    "print(pokeman_abilities)\n",
    "print(pokeman_base_exp)\n",
    "print(pokeman_sprite)\n",
    "print(pokeman_attack)\n",
    "print(pokeman_hp)\n",
    "print(pokeman_defense)"
   ]
  },
  {
   "cell_type": "code",
   "execution_count": 55,
   "id": "de28db2d",
   "metadata": {},
   "outputs": [
    {
     "name": "stdout",
     "output_type": "stream",
     "text": [
      "snorlax\n",
      "thick-fat\n",
      "189\n",
      "https://raw.githubusercontent.com/PokeAPI/sprites/master/sprites/pokemon/shiny/143.png\n",
      "110\n",
      "160\n",
      "65\n"
     ]
    }
   ],
   "source": [
    "url ='https://pokeapi.co/api/v2/pokemon/snorlax'\n",
    "response = requests.get(url)\n",
    "response.status_code\n",
    "response.ok\n",
    "response.json\n",
    "type(response.json())\n",
    "pokeman_name = response.json()['forms'][0]['name']\n",
    "pokeman_abilities = response.json()['abilities'][1]['ability']['name']\n",
    "pokeman_base_exp = response.json()['base_experience']\n",
    "pokeman_sprite = response.json()['sprites']['front_shiny']\n",
    "pokeman_attack = response.json()['stats'][1]['base_stat']\n",
    "pokeman_hp = response.json()['stats'][0]['base_stat']\n",
    "pokeman_defense = response.json()['stats'][2]['base_stat']\n",
    "print(pokeman_name)\n",
    "print(pokeman_abilities)\n",
    "print(pokeman_base_exp)\n",
    "print(pokeman_sprite)\n",
    "print(pokeman_attack)\n",
    "print(pokeman_hp)\n",
    "print(pokeman_defense)"
   ]
  },
  {
   "cell_type": "code",
   "execution_count": 54,
   "id": "14029205",
   "metadata": {},
   "outputs": [
    {
     "name": "stdout",
     "output_type": "stream",
     "text": [
      "pidgey\n",
      "tangled-feet\n",
      "50\n",
      "https://raw.githubusercontent.com/PokeAPI/sprites/master/sprites/pokemon/shiny/16.png\n",
      "45\n",
      "40\n",
      "40\n"
     ]
    }
   ],
   "source": [
    "url ='https://pokeapi.co/api/v2/pokemon/pidgey'\n",
    "response = requests.get(url)\n",
    "response.status_code\n",
    "response.ok\n",
    "response.json\n",
    "type(response.json())\n",
    "pokeman_name = response.json()['forms'][0]['name']\n",
    "pokeman_abilities = response.json()['abilities'][1]['ability']['name']\n",
    "pokeman_base_exp = response.json()['base_experience']\n",
    "pokeman_sprite = response.json()['sprites']['front_shiny']\n",
    "pokeman_attack = response.json()['stats'][1]['base_stat']\n",
    "pokeman_hp = response.json()['stats'][0]['base_stat']\n",
    "pokeman_defense = response.json()['stats'][2]['base_stat']\n",
    "print(pokeman_name)\n",
    "print(pokeman_abilities)\n",
    "print(pokeman_base_exp)\n",
    "print(pokeman_sprite)\n",
    "print(pokeman_attack)\n",
    "print(pokeman_hp)\n",
    "print(pokeman_defense)"
   ]
  },
  {
   "cell_type": "code",
   "execution_count": 53,
   "id": "fbe4e92c",
   "metadata": {},
   "outputs": [
    {
     "name": "stdout",
     "output_type": "stream",
     "text": [
      "geodude\n",
      "sturdy\n",
      "60\n",
      "https://raw.githubusercontent.com/PokeAPI/sprites/master/sprites/pokemon/shiny/74.png\n",
      "80\n",
      "40\n",
      "100\n"
     ]
    }
   ],
   "source": [
    "url ='https://pokeapi.co/api/v2/pokemon/geodude'\n",
    "response = requests.get(url)\n",
    "response.status_code\n",
    "response.ok\n",
    "response.json\n",
    "type(response.json())\n",
    "pokeman_name = response.json()['forms'][0]['name']\n",
    "pokeman_abilities = response.json()['abilities'][1]['ability']['name']\n",
    "pokeman_base_exp = response.json()['base_experience']\n",
    "pokeman_sprite = response.json()['sprites']['front_shiny']\n",
    "pokeman_attack = response.json()['stats'][1]['base_stat']\n",
    "pokeman_hp = response.json()['stats'][0]['base_stat']\n",
    "pokeman_defense = response.json()['stats'][2]['base_stat']\n",
    "print(pokeman_name)\n",
    "print(pokeman_abilities)\n",
    "print(pokeman_base_exp)\n",
    "print(pokeman_sprite)\n",
    "print(pokeman_attack)\n",
    "print(pokeman_hp)\n",
    "print(pokeman_defense)"
   ]
  },
  {
   "cell_type": "code",
   "execution_count": null,
   "id": "c3c4f517",
   "metadata": {},
   "outputs": [],
   "source": []
  }
 ],
 "metadata": {
  "kernelspec": {
   "display_name": "Python 3 (ipykernel)",
   "language": "python",
   "name": "python3"
  },
  "language_info": {
   "codemirror_mode": {
    "name": "ipython",
    "version": 3
   },
   "file_extension": ".py",
   "mimetype": "text/x-python",
   "name": "python",
   "nbconvert_exporter": "python",
   "pygments_lexer": "ipython3",
   "version": "3.9.12"
  },
  "vscode": {
   "interpreter": {
    "hash": "40d85905ded68723046d569b8087234b5408478ef58a6cd5e66cdea9b9b1263e"
   }
  }
 },
 "nbformat": 4,
 "nbformat_minor": 5
}
